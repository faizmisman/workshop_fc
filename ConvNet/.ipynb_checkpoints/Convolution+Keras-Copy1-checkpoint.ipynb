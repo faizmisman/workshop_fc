{
 "cells": [
  {
   "cell_type": "markdown",
   "metadata": {},
   "source": [
    "# Convolutional Neural Networks: Application 2\n",
    "\n",
    "In this notebook, you will:\n",
    "\n",
    "- Implement a fully functioning ConvNet using Keras \n",
    "\n",
    "**After this assignment you will be able to:**\n",
    "\n",
    "- Build and train a ConvNet in Keras with TensorFlow backend for a classification problem "
   ]
  },
  {
   "cell_type": "markdown",
   "metadata": {},
   "source": [
    "## 1.0 - Keras model\n",
    "\n",
    "Most practical applications of deep learning today are built using programming frameworks, which have many built-in functions you can simply call. \n",
    "\n",
    "For more information on Keras, please refer the *TensorFlow Tutorial* or https://www.tensorflow.org/tutorials/\n",
    "\n",
    "### As usual, we will start by loading in the packages. \n",
    "\n",
    "As you can see, there are 2 important components in Keras library which are *keras.model* and *keras.layers* \n",
    "\n",
    "You don't need to import *TensorFlow* library because Keras will autoimatically add it"
   ]
  },
  {
   "cell_type": "code",
   "execution_count": 1,
   "metadata": {},
   "outputs": [
    {
     "name": "stderr",
     "output_type": "stream",
     "text": [
      "Using TensorFlow backend.\n"
     ]
    }
   ],
   "source": [
    "import math\n",
    "import numpy as np\n",
    "import h5py\n",
    "import matplotlib.pyplot as plt\n",
    "import scipy\n",
    "from PIL import Image\n",
    "from scipy import ndimage\n",
    "from cnn_utils import *\n",
    "from keras import backend as K\n",
    "from keras.models import Sequential\n",
    "from keras.layers import Conv2D , MaxPooling2D, Flatten, Activation, Dense\n",
    "\n",
    "%matplotlib inline\n",
    "np.random.seed(1)"
   ]
  },
  {
   "cell_type": "markdown",
   "metadata": {},
   "source": [
    "## 2.0 - Loading Dataset\n",
    "\n",
    "Nothing special..same as previous excercise"
   ]
  },
  {
   "cell_type": "code",
   "execution_count": 2,
   "metadata": {},
   "outputs": [
    {
     "name": "stdout",
     "output_type": "stream",
     "text": [
      "Show classes:  [0 1 2 3 4 5]\n"
     ]
    }
   ],
   "source": [
    "# Loading the data (signs)\n",
    "X_train_orig, Y_train_orig, X_test_orig, Y_test_orig, classes = load_dataset()\n",
    "\n",
    "print(\"Show classes: \", classes)"
   ]
  },
  {
   "cell_type": "code",
   "execution_count": 3,
   "metadata": {},
   "outputs": [
    {
     "name": "stdout",
     "output_type": "stream",
     "text": [
      "y = 4\n"
     ]
    },
    {
     "data": {
      "image/png": "[encoded data removed]",
      "text/plain": [
       "<matplotlib.figure.Figure at 0x25d86eae6d8>"
      ]
     },
     "metadata": {},
     "output_type": "display_data"
    }
   ],
   "source": [
    "# Example of a picture\n",
    "index = 77\n",
    "plt.imshow(X_train_orig[index])\n",
    "print (\"y = \" + str(np.squeeze(Y_train_orig[:, index])))"
   ]
  },
  {
   "cell_type": "code",
   "execution_count": 4,
   "metadata": {},
   "outputs": [
    {
     "name": "stdout",
     "output_type": "stream",
     "text": [
      "number of training examples = 1080\n",
      "number of test examples = 120\n",
      "X_train shape: (1080, 64, 64, 3)\n",
      "Y_train shape: (1080, 6)\n",
      "X_test shape: (120, 64, 64, 3)\n",
      "Y_test shape: (120, 6)\n"
     ]
    }
   ],
   "source": [
    "X_train = X_train_orig/255.\n",
    "X_test = X_test_orig/255.\n",
    "Y_train = convert_to_one_hot(Y_train_orig, 6).T\n",
    "Y_test = convert_to_one_hot(Y_test_orig, 6).T\n",
    "print (\"number of training examples = \" + str(X_train.shape[0]))\n",
    "print (\"number of test examples = \" + str(X_test.shape[0]))\n",
    "print (\"X_train shape: \" + str(X_train.shape))\n",
    "print (\"Y_train shape: \" + str(Y_train.shape))\n",
    "print (\"X_test shape: \" + str(X_test.shape))\n",
    "print (\"Y_test shape: \" + str(Y_test.shape))\n",
    "conv_layers = {}"
   ]
  },
  {
   "cell_type": "markdown",
   "metadata": {},
   "source": [
    "## Build a model\n",
    "\n",
    "The model is same as from the previous excercise. To make it more clear, we separate the convolution process into boxes.\n",
    "\n",
    "\n",
    "<img src=\"images/box.jpg\" style=\"width:800px;height:300px;\">"
   ]
  },
  {
   "cell_type": "code",
   "execution_count": 5,
   "metadata": {},
   "outputs": [],
   "source": [
    "def convnet (X, Y, Xtest, Ytest, epoch):\n",
    "    \n",
    "    \"\"\"\n",
    "    Implements a three-layer ConvNet in Tensorflow:\n",
    "    CONV2D -> RELU -> MAXPOOL -> CONV2D -> RELU -> MAXPOOL -> FLATTEN -> FULLYCONNECTED -> SOFTMAX\n",
    "    \n",
    "    Arguments:\n",
    "    X -- training set, of shape (None, 64, 64, 3)\n",
    "    Y -- test set, of shape (None, n_y = 6)\n",
    "    Xtest -- training set, of shape (None, 64, 64, 3)\n",
    "    Ytest -- test set, of shape (None, n_y = 6)\n",
    "    epoch -- number of epochs of the optimization loop\n",
    "    \n",
    "    \n",
    "    Returns:\n",
    "    model -- a Sequential object that return training accuracy, training loss, validation accuracy and validation loss\n",
    "    \"\"\"\n",
    "    \n",
    "    ### START CODE HERE ### (1 line of code)\n",
    "    model = Sequential() #Sequential model\n",
    "    \n",
    "    #Block 1\n",
    "    ### START CODE HERE ### (3 line of code)\n",
    "    model.add(Conv2D(8, (4, 4), input_shape = (64, 64, 3), padding='same')) #Conv2D with no. of filters 8, kernel size (4,4), and padding SAME \n",
    "    model.add(Activation('relu')) #Relu\n",
    "    model.add(MaxPooling2D(pool_size = (8, 8), strides=8,padding='same')) #MaxPooling2D with pool_size (8,8), strides 8, and padding SAME\n",
    "    ### END CODE HERE ###\n",
    "    \n",
    "    #Block 2\n",
    "    ### START CODE HERE ### (3 line of code)\n",
    "    model.add(Conv2D(16, (2, 2), padding='same')) #Conv2D with no. of filters 16, kernel size (2,2), and padding SAME\n",
    "    model.add(Activation('relu')) #Relu\n",
    "    model.add(MaxPooling2D(pool_size = (4, 4), strides=4,padding='same')) #MaxPooling2D with pool_size (4,4), strides 4, and padding SAME\n",
    "    ### END CODE HERE ###\n",
    "    \n",
    "    #Flatten and softmax classifier\n",
    "    ### START CODE HERE ### (2 line of code)\n",
    "    model.add(Flatten()) #Flatten\n",
    "    model.add(Dense(6, activation = 'softmax')) #Dense layer with output 6, and activation SOFTMAX\n",
    "    ### END CODE HERE ###\n",
    "    \n",
    "    #Compile model\n",
    "    model.compile(optimizer = 'adam', loss='categorical_crossentropy', metrics=['accuracy'])\n",
    "    model.fit(X_train, Y_train, epochs = epoch, validation_data = (Xtest, Ytest))\n",
    "    \n",
    "    return model"
   ]
  },
  {
   "cell_type": "markdown",
   "metadata": {},
   "source": [
    "## Now let's try run the model"
   ]
  },
  {
   "cell_type": "code",
   "execution_count": 6,
   "metadata": {},
   "outputs": [
    {
     "name": "stdout",
     "output_type": "stream",
     "text": [
      "Train on 1080 samples, validate on 120 samples\n",
      "Epoch 1/100\n",
      "1080/1080 [==============================] - 3s 2ms/step - loss: 1.8342 - acc: 0.1694 - val_loss: 1.7936 - val_acc: 0.1500\n",
      "Epoch 2/100\n",
      "1080/1080 [==============================] - 0s 260us/step - loss: 1.7882 - acc: 0.1898 - val_loss: 1.7816 - val_acc: 0.1583\n",
      "Epoch 3/100\n",
      "1080/1080 [==============================] - 0s 263us/step - loss: 1.7729 - acc: 0.2324 - val_loss: 1.7639 - val_acc: 0.3667\n",
      "Epoch 4/100\n",
      "1080/1080 [==============================] - 0s 261us/step - loss: 1.7544 - acc: 0.2917 - val_loss: 1.7425 - val_acc: 0.3417\n",
      "Epoch 5/100\n",
      "1080/1080 [==============================] - 0s 258us/step - loss: 1.7351 - acc: 0.3056 - val_loss: 1.7188 - val_acc: 0.4167\n",
      "Epoch 6/100\n",
      "1080/1080 [==============================] - 0s 267us/step - loss: 1.7098 - acc: 0.3139 - val_loss: 1.6952 - val_acc: 0.3583\n",
      "Epoch 7/100\n",
      "1080/1080 [==============================] - 0s 264us/step - loss: 1.6739 - acc: 0.3694 - val_loss: 1.6448 - val_acc: 0.4333\n",
      "Epoch 8/100\n",
      "1080/1080 [==============================] - 0s 262us/step - loss: 1.6294 - acc: 0.4019 - val_loss: 1.6290 - val_acc: 0.3250\n",
      "Epoch 9/100\n",
      "1080/1080 [==============================] - 0s 266us/step - loss: 1.5744 - acc: 0.4148 - val_loss: 1.5473 - val_acc: 0.4500\n",
      "Epoch 10/100\n",
      "1080/1080 [==============================] - 0s 265us/step - loss: 1.5152 - acc: 0.4231 - val_loss: 1.5220 - val_acc: 0.4083\n",
      "Epoch 11/100\n",
      "1080/1080 [==============================] - 0s 260us/step - loss: 1.4645 - acc: 0.4852 - val_loss: 1.4708 - val_acc: 0.4417\n",
      "Epoch 12/100\n",
      "1080/1080 [==============================] - 0s 262us/step - loss: 1.3949 - acc: 0.5093 - val_loss: 1.3690 - val_acc: 0.5250\n",
      "Epoch 13/100\n",
      "1080/1080 [==============================] - 0s 266us/step - loss: 1.3246 - acc: 0.5250 - val_loss: 1.3165 - val_acc: 0.5333\n",
      "Epoch 14/100\n",
      "1080/1080 [==============================] - 0s 264us/step - loss: 1.2866 - acc: 0.5222 - val_loss: 1.2867 - val_acc: 0.5417\n",
      "Epoch 15/100\n",
      "1080/1080 [==============================] - 0s 271us/step - loss: 1.1772 - acc: 0.6296 - val_loss: 1.1933 - val_acc: 0.5583\n",
      "Epoch 16/100\n",
      "1080/1080 [==============================] - 0s 303us/step - loss: 1.1221 - acc: 0.6315 - val_loss: 1.1756 - val_acc: 0.5333\n",
      "Epoch 17/100\n",
      "1080/1080 [==============================] - 0s 261us/step - loss: 1.0658 - acc: 0.6593 - val_loss: 1.1220 - val_acc: 0.5750\n",
      "Epoch 18/100\n",
      "1080/1080 [==============================] - 0s 284us/step - loss: 1.0317 - acc: 0.6537 - val_loss: 1.0602 - val_acc: 0.6333\n",
      "Epoch 19/100\n",
      "1080/1080 [==============================] - 0s 264us/step - loss: 0.9818 - acc: 0.6722 - val_loss: 1.0398 - val_acc: 0.6000\n",
      "Epoch 20/100\n",
      "1080/1080 [==============================] - 0s 303us/step - loss: 0.9629 - acc: 0.6917 - val_loss: 1.0275 - val_acc: 0.5500\n",
      "Epoch 21/100\n",
      "1080/1080 [==============================] - 0s 259us/step - loss: 0.9221 - acc: 0.6963 - val_loss: 0.9639 - val_acc: 0.6833\n",
      "Epoch 22/100\n",
      "1080/1080 [==============================] - 0s 272us/step - loss: 0.8813 - acc: 0.7157 - val_loss: 0.9495 - val_acc: 0.6333\n",
      "Epoch 23/100\n",
      "1080/1080 [==============================] - 0s 264us/step - loss: 0.8611 - acc: 0.7139 - val_loss: 0.9171 - val_acc: 0.6750\n",
      "Epoch 24/100\n",
      "1080/1080 [==============================] - 0s 272us/step - loss: 0.8330 - acc: 0.7241 - val_loss: 0.8764 - val_acc: 0.6750\n",
      "Epoch 25/100\n",
      "1080/1080 [==============================] - 0s 262us/step - loss: 0.8082 - acc: 0.7370 - val_loss: 0.8509 - val_acc: 0.6917\n",
      "Epoch 26/100\n",
      "1080/1080 [==============================] - 0s 259us/step - loss: 0.8034 - acc: 0.7194 - val_loss: 0.8788 - val_acc: 0.6750\n",
      "Epoch 27/100\n",
      "1080/1080 [==============================] - 0s 261us/step - loss: 0.7720 - acc: 0.7398 - val_loss: 0.8299 - val_acc: 0.6750\n",
      "Epoch 28/100\n",
      "1080/1080 [==============================] - 0s 263us/step - loss: 0.7617 - acc: 0.7537 - val_loss: 0.8035 - val_acc: 0.6750\n",
      "Epoch 29/100\n",
      "1080/1080 [==============================] - 0s 262us/step - loss: 0.7548 - acc: 0.7481 - val_loss: 0.7968 - val_acc: 0.7083\n",
      "Epoch 30/100\n",
      "1080/1080 [==============================] - 0s 261us/step - loss: 0.7305 - acc: 0.7500 - val_loss: 0.7686 - val_acc: 0.7167\n",
      "Epoch 31/100\n",
      "1080/1080 [==============================] - 0s 263us/step - loss: 0.7172 - acc: 0.7639 - val_loss: 0.7532 - val_acc: 0.7250\n",
      "Epoch 32/100\n",
      "1080/1080 [==============================] - 0s 264us/step - loss: 0.7048 - acc: 0.7583 - val_loss: 0.7592 - val_acc: 0.7083\n",
      "Epoch 33/100\n",
      "1080/1080 [==============================] - 0s 266us/step - loss: 0.6954 - acc: 0.7611 - val_loss: 0.7534 - val_acc: 0.7250\n",
      "Epoch 34/100\n",
      "1080/1080 [==============================] - 0s 262us/step - loss: 0.6867 - acc: 0.7639 - val_loss: 0.7565 - val_acc: 0.7167\n",
      "Epoch 35/100\n",
      "1080/1080 [==============================] - 0s 263us/step - loss: 0.7127 - acc: 0.7519 - val_loss: 0.7565 - val_acc: 0.7167\n",
      "Epoch 36/100\n",
      "1080/1080 [==============================] - 0s 261us/step - loss: 0.6784 - acc: 0.7694 - val_loss: 0.7160 - val_acc: 0.7417\n",
      "Epoch 37/100\n",
      "1080/1080 [==============================] - 0s 268us/step - loss: 0.6483 - acc: 0.7704 - val_loss: 0.7228 - val_acc: 0.7250\n",
      "Epoch 38/100\n",
      "1080/1080 [==============================] - 0s 262us/step - loss: 0.6426 - acc: 0.7778 - val_loss: 0.7115 - val_acc: 0.7583\n",
      "Epoch 39/100\n",
      "1080/1080 [==============================] - 0s 289us/step - loss: 0.6301 - acc: 0.7769 - val_loss: 0.6838 - val_acc: 0.7583\n",
      "Epoch 40/100\n",
      "1080/1080 [==============================] - 0s 260us/step - loss: 0.6102 - acc: 0.7944 - val_loss: 0.6827 - val_acc: 0.7500\n",
      "Epoch 41/100\n",
      "1080/1080 [==============================] - 0s 281us/step - loss: 0.6168 - acc: 0.7972 - val_loss: 0.6821 - val_acc: 0.7250\n",
      "Epoch 42/100\n",
      "1080/1080 [==============================] - 0s 272us/step - loss: 0.6057 - acc: 0.7935 - val_loss: 0.6977 - val_acc: 0.7417\n",
      "Epoch 43/100\n",
      "1080/1080 [==============================] - 0s 298us/step - loss: 0.5913 - acc: 0.7981 - val_loss: 0.6647 - val_acc: 0.7083\n",
      "Epoch 44/100\n",
      "1080/1080 [==============================] - 0s 264us/step - loss: 0.6047 - acc: 0.7778 - val_loss: 0.6783 - val_acc: 0.7250\n",
      "Epoch 45/100\n",
      "1080/1080 [==============================] - 0s 260us/step - loss: 0.5993 - acc: 0.7944 - val_loss: 0.6724 - val_acc: 0.7250\n",
      "Epoch 46/100\n",
      "1080/1080 [==============================] - 0s 263us/step - loss: 0.5674 - acc: 0.8056 - val_loss: 0.6377 - val_acc: 0.7833\n",
      "Epoch 47/100\n",
      "1080/1080 [==============================] - 0s 263us/step - loss: 0.5738 - acc: 0.8009 - val_loss: 0.6343 - val_acc: 0.7417\n",
      "Epoch 48/100\n",
      "1080/1080 [==============================] - 0s 262us/step - loss: 0.5731 - acc: 0.7907 - val_loss: 0.6807 - val_acc: 0.6917\n",
      "Epoch 49/100\n",
      "1080/1080 [==============================] - 0s 264us/step - loss: 0.5954 - acc: 0.7741 - val_loss: 0.6575 - val_acc: 0.7167\n",
      "Epoch 50/100\n",
      "1080/1080 [==============================] - 0s 267us/step - loss: 0.5602 - acc: 0.8102 - val_loss: 0.6116 - val_acc: 0.7750\n",
      "Epoch 51/100\n",
      "1080/1080 [==============================] - 0s 266us/step - loss: 0.5363 - acc: 0.8194 - val_loss: 0.6124 - val_acc: 0.7833\n",
      "Epoch 52/100\n",
      "1080/1080 [==============================] - 0s 260us/step - loss: 0.5371 - acc: 0.8157 - val_loss: 0.6187 - val_acc: 0.8083\n",
      "Epoch 53/100\n",
      "1080/1080 [==============================] - 0s 265us/step - loss: 0.5166 - acc: 0.8343 - val_loss: 0.6014 - val_acc: 0.7833\n",
      "Epoch 54/100\n",
      "1080/1080 [==============================] - 0s 271us/step - loss: 0.5298 - acc: 0.8250 - val_loss: 0.6261 - val_acc: 0.7833\n",
      "Epoch 55/100\n",
      "1080/1080 [==============================] - 0s 260us/step - loss: 0.5219 - acc: 0.8213 - val_loss: 0.6213 - val_acc: 0.7750\n",
      "Epoch 56/100\n",
      "1080/1080 [==============================] - 0s 263us/step - loss: 0.5075 - acc: 0.8278 - val_loss: 0.6162 - val_acc: 0.7833\n",
      "Epoch 57/100\n",
      "1080/1080 [==============================] - 0s 270us/step - loss: 0.5034 - acc: 0.8324 - val_loss: 0.5837 - val_acc: 0.8000\n",
      "Epoch 58/100\n",
      "1080/1080 [==============================] - 0s 267us/step - loss: 0.5007 - acc: 0.8343 - val_loss: 0.5900 - val_acc: 0.8083\n",
      "Epoch 59/100\n",
      "1080/1080 [==============================] - 0s 266us/step - loss: 0.4984 - acc: 0.8278 - val_loss: 0.5872 - val_acc: 0.7833\n",
      "Epoch 60/100\n"
     ]
    },
    {
     "name": "stdout",
     "output_type": "stream",
     "text": [
      "1080/1080 [==============================] - 0s 262us/step - loss: 0.5014 - acc: 0.8296 - val_loss: 0.6141 - val_acc: 0.7750\n",
      "Epoch 61/100\n",
      "1080/1080 [==============================] - 0s 268us/step - loss: 0.4905 - acc: 0.8250 - val_loss: 0.5887 - val_acc: 0.7583\n",
      "Epoch 62/100\n",
      "1080/1080 [==============================] - 0s 255us/step - loss: 0.4726 - acc: 0.8472 - val_loss: 0.5910 - val_acc: 0.7750\n",
      "Epoch 63/100\n",
      "1080/1080 [==============================] - 0s 259us/step - loss: 0.4741 - acc: 0.8315 - val_loss: 0.5777 - val_acc: 0.7917\n",
      "Epoch 64/100\n",
      "1080/1080 [==============================] - 0s 258us/step - loss: 0.4706 - acc: 0.8380 - val_loss: 0.5818 - val_acc: 0.7750\n",
      "Epoch 65/100\n",
      "1080/1080 [==============================] - 0s 257us/step - loss: 0.4688 - acc: 0.8361 - val_loss: 0.5967 - val_acc: 0.7500\n",
      "Epoch 66/100\n",
      "1080/1080 [==============================] - 0s 258us/step - loss: 0.4634 - acc: 0.8389 - val_loss: 0.5518 - val_acc: 0.8167\n",
      "Epoch 67/100\n",
      "1080/1080 [==============================] - 0s 268us/step - loss: 0.4400 - acc: 0.8583 - val_loss: 0.5333 - val_acc: 0.8083\n",
      "Epoch 68/100\n",
      "1080/1080 [==============================] - 0s 261us/step - loss: 0.4323 - acc: 0.8528 - val_loss: 0.5546 - val_acc: 0.8083\n",
      "Epoch 69/100\n",
      "1080/1080 [==============================] - 0s 259us/step - loss: 0.4516 - acc: 0.8463 - val_loss: 0.5450 - val_acc: 0.8000\n",
      "Epoch 70/100\n",
      "1080/1080 [==============================] - 0s 259us/step - loss: 0.4436 - acc: 0.8528 - val_loss: 0.5644 - val_acc: 0.7833\n",
      "Epoch 71/100\n",
      "1080/1080 [==============================] - 0s 259us/step - loss: 0.4185 - acc: 0.8556 - val_loss: 0.5342 - val_acc: 0.8167\n",
      "Epoch 72/100\n",
      "1080/1080 [==============================] - 0s 256us/step - loss: 0.4271 - acc: 0.8537 - val_loss: 0.5939 - val_acc: 0.7833\n",
      "Epoch 73/100\n",
      "1080/1080 [==============================] - 0s 260us/step - loss: 0.4306 - acc: 0.8509 - val_loss: 0.5397 - val_acc: 0.7833\n",
      "Epoch 74/100\n",
      "1080/1080 [==============================] - 0s 259us/step - loss: 0.4148 - acc: 0.8583 - val_loss: 0.5557 - val_acc: 0.7750\n",
      "Epoch 75/100\n",
      "1080/1080 [==============================] - 0s 259us/step - loss: 0.4167 - acc: 0.8602 - val_loss: 0.5247 - val_acc: 0.8167\n",
      "Epoch 76/100\n",
      "1080/1080 [==============================] - 0s 258us/step - loss: 0.4181 - acc: 0.8556 - val_loss: 0.5512 - val_acc: 0.7750\n",
      "Epoch 77/100\n",
      "1080/1080 [==============================] - 0s 263us/step - loss: 0.4049 - acc: 0.8667 - val_loss: 0.5116 - val_acc: 0.8000\n",
      "Epoch 78/100\n",
      "1080/1080 [==============================] - 0s 255us/step - loss: 0.4058 - acc: 0.8648 - val_loss: 0.4956 - val_acc: 0.8167\n",
      "Epoch 79/100\n",
      "1080/1080 [==============================] - 0s 269us/step - loss: 0.3960 - acc: 0.8648 - val_loss: 0.5233 - val_acc: 0.7750\n",
      "Epoch 80/100\n",
      "1080/1080 [==============================] - 0s 259us/step - loss: 0.3791 - acc: 0.8824 - val_loss: 0.5077 - val_acc: 0.8167\n",
      "Epoch 81/100\n",
      "1080/1080 [==============================] - 0s 260us/step - loss: 0.4047 - acc: 0.8694 - val_loss: 0.5932 - val_acc: 0.7667\n",
      "Epoch 82/100\n",
      "1080/1080 [==============================] - 0s 260us/step - loss: 0.3924 - acc: 0.8676 - val_loss: 0.5346 - val_acc: 0.8000\n",
      "Epoch 83/100\n",
      "1080/1080 [==============================] - 0s 262us/step - loss: 0.3706 - acc: 0.8796 - val_loss: 0.5194 - val_acc: 0.8083\n",
      "Epoch 84/100\n",
      "1080/1080 [==============================] - 0s 261us/step - loss: 0.3680 - acc: 0.8787 - val_loss: 0.4975 - val_acc: 0.8333\n",
      "Epoch 85/100\n",
      "1080/1080 [==============================] - 0s 258us/step - loss: 0.4049 - acc: 0.8491 - val_loss: 0.5441 - val_acc: 0.7833\n",
      "Epoch 86/100\n",
      "1080/1080 [==============================] - 0s 260us/step - loss: 0.3939 - acc: 0.8657 - val_loss: 0.4951 - val_acc: 0.8333\n",
      "Epoch 87/100\n",
      "1080/1080 [==============================] - 0s 261us/step - loss: 0.3703 - acc: 0.8769 - val_loss: 0.5431 - val_acc: 0.8000\n",
      "Epoch 88/100\n",
      "1080/1080 [==============================] - 0s 257us/step - loss: 0.3574 - acc: 0.8861 - val_loss: 0.5174 - val_acc: 0.8000\n",
      "Epoch 89/100\n",
      "1080/1080 [==============================] - 0s 264us/step - loss: 0.3642 - acc: 0.8815 - val_loss: 0.4714 - val_acc: 0.8250\n",
      "Epoch 90/100\n",
      "1080/1080 [==============================] - 0s 262us/step - loss: 0.3389 - acc: 0.8870 - val_loss: 0.4782 - val_acc: 0.8250\n",
      "Epoch 91/100\n",
      "1080/1080 [==============================] - 0s 260us/step - loss: 0.3504 - acc: 0.8870 - val_loss: 0.5777 - val_acc: 0.7583\n",
      "Epoch 92/100\n",
      "1080/1080 [==============================] - 0s 262us/step - loss: 0.3655 - acc: 0.8741 - val_loss: 0.5431 - val_acc: 0.8167\n",
      "Epoch 93/100\n",
      "1080/1080 [==============================] - 0s 260us/step - loss: 0.3426 - acc: 0.8880 - val_loss: 0.4926 - val_acc: 0.8083\n",
      "Epoch 94/100\n",
      "1080/1080 [==============================] - 0s 257us/step - loss: 0.3521 - acc: 0.8778 - val_loss: 0.4523 - val_acc: 0.8500\n",
      "Epoch 95/100\n",
      "1080/1080 [==============================] - 0s 263us/step - loss: 0.3406 - acc: 0.8824 - val_loss: 0.5030 - val_acc: 0.8000\n",
      "Epoch 96/100\n",
      "1080/1080 [==============================] - 0s 260us/step - loss: 0.3426 - acc: 0.8889 - val_loss: 0.4997 - val_acc: 0.8250\n",
      "Epoch 97/100\n",
      "1080/1080 [==============================] - 0s 262us/step - loss: 0.3370 - acc: 0.8972 - val_loss: 0.4965 - val_acc: 0.8167\n",
      "Epoch 98/100\n",
      "1080/1080 [==============================] - 0s 262us/step - loss: 0.3415 - acc: 0.8870 - val_loss: 0.4945 - val_acc: 0.8000\n",
      "Epoch 99/100\n",
      "1080/1080 [==============================] - 0s 261us/step - loss: 0.3302 - acc: 0.8880 - val_loss: 0.4822 - val_acc: 0.8000\n",
      "Epoch 100/100\n",
      "1080/1080 [==============================] - 0s 272us/step - loss: 0.3333 - acc: 0.8944 - val_loss: 0.4934 - val_acc: 0.8000\n"
     ]
    }
   ],
   "source": [
    "fit = convnet(X_train, Y_train,X_test, Y_test, epoch = 100)"
   ]
  },
  {
   "cell_type": "markdown",
   "metadata": {},
   "source": [
    "**Expected output**: although it may not match perfectly, your expected output should be close to ours and your cost value should decrease.\n",
    "\n",
    "<table> \n",
    "<tr>\n",
    "    <td> \n",
    "    **Train Accuracy   =**\n",
    "    </td>\n",
    "\n",
    "    <td> \n",
    "      0.8917\n",
    "    </td> \n",
    "</tr> \n",
    "\n",
    "<tr>\n",
    "    <td> \n",
    "    **Test Accuracy   =**\n",
    "    </td>\n",
    "\n",
    "    <td> \n",
    "      0.0.8250\n",
    "    </td> \n",
    "</tr> \n",
    "</table>"
   ]
  },
  {
   "cell_type": "markdown",
   "metadata": {},
   "source": [
    "show your model layers and parameters"
   ]
  },
  {
   "cell_type": "code",
   "execution_count": 7,
   "metadata": {},
   "outputs": [
    {
     "name": "stdout",
     "output_type": "stream",
     "text": [
      "_________________________________________________________________\n",
      "Layer (type)                 Output Shape              Param #   \n",
      "=================================================================\n",
      "conv2d_1 (Conv2D)            (None, 64, 64, 8)         392       \n",
      "_________________________________________________________________\n",
      "activation_1 (Activation)    (None, 64, 64, 8)         0         \n",
      "_________________________________________________________________\n",
      "max_pooling2d_1 (MaxPooling2 (None, 8, 8, 8)           0         \n",
      "_________________________________________________________________\n",
      "conv2d_2 (Conv2D)            (None, 8, 8, 16)          528       \n",
      "_________________________________________________________________\n",
      "activation_2 (Activation)    (None, 8, 8, 16)          0         \n",
      "_________________________________________________________________\n",
      "max_pooling2d_2 (MaxPooling2 (None, 2, 2, 16)          0         \n",
      "_________________________________________________________________\n",
      "flatten_1 (Flatten)          (None, 64)                0         \n",
      "_________________________________________________________________\n",
      "dense_1 (Dense)              (None, 6)                 390       \n",
      "=================================================================\n",
      "Total params: 1,310\n",
      "Trainable params: 1,310\n",
      "Non-trainable params: 0\n",
      "_________________________________________________________________\n"
     ]
    }
   ],
   "source": [
    "fit.summary()"
   ]
  }
 ],
 "metadata": {
  "kernelspec": {
   "display_name": "Python 3",
   "language": "python",
   "name": "python3"
  },
  "language_info": {
   "codemirror_mode": {
    "name": "ipython",
    "version": 3
   },
   "file_extension": ".py",
   "mimetype": "text/x-python",
   "name": "python",
   "nbconvert_exporter": "python",
   "pygments_lexer": "ipython3",
   "version": "3.6.3"
  }
 },
 "nbformat": 4,
 "nbformat_minor": 2
}
